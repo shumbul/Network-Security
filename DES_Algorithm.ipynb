{
  "nbformat": 4,
  "nbformat_minor": 0,
  "metadata": {
    "colab": {
      "name": "DES.ipynb",
      "provenance": [],
      "collapsed_sections": [],
      "authorship_tag": "ABX9TyPRL2BRXh/F4HkxFfTTJsAX",
      "include_colab_link": true
    },
    "kernelspec": {
      "name": "python3",
      "display_name": "Python 3"
    },
    "language_info": {
      "name": "python"
    }
  },
  "cells": [
    {
      "cell_type": "markdown",
      "metadata": {
        "id": "view-in-github",
        "colab_type": "text"
      },
      "source": [
        "<a href=\"https://colab.research.google.com/github/shumbul/Network-Security/blob/main/DES_Algorithm.ipynb\" target=\"_parent\"><img src=\"https://colab.research.google.com/assets/colab-badge.svg\" alt=\"Open In Colab\"/></a>"
      ]
    },
    {
      "cell_type": "markdown",
      "source": [
        "# DES (Data Encryption Standard) \n",
        "DES is a symmetric block cipher standardized with a fixed data block size of 8 bytes. Its keys are 64 bits long, even though 8 bits were used for integrity (now they are ignored) and do not contribute to security. The effective key length is therefore 56 bits only.\n",
        "## Implementation"
      ],
      "metadata": {
        "id": "u1hmuc63VRHs"
      }
    },
    {
      "cell_type": "code",
      "source": [
        "# Hexadecimal to binary conversion\n",
        "def hex2bin(s):\n",
        "\tmp = {'0' : \"0000\",\n",
        "\t\t'1' : \"0001\",\n",
        "\t\t'2' : \"0010\",\n",
        "\t\t'3' : \"0011\",\n",
        "\t\t'4' : \"0100\",\n",
        "\t\t'5' : \"0101\",\n",
        "\t\t'6' : \"0110\",\n",
        "\t\t'7' : \"0111\",\n",
        "\t\t'8' : \"1000\",\n",
        "\t\t'9' : \"1001\",\n",
        "\t\t'A' : \"1010\",\n",
        "\t\t'B' : \"1011\",\n",
        "\t\t'C' : \"1100\",\n",
        "\t\t'D' : \"1101\",\n",
        "\t\t'E' : \"1110\",\n",
        "\t\t'F' : \"1111\" }\n",
        "\tbin = \"\"\n",
        "\tfor i in range(len(s)):\n",
        "\t\tbin = bin + mp[s[i]]\n",
        "\treturn bin"
      ],
      "metadata": {
        "id": "CzTXlFAdYeie"
      },
      "execution_count": 1,
      "outputs": []
    },
    {
      "cell_type": "code",
      "source": [
        "# Binary to hexadecimal conversion\n",
        "def bin2hex(s):\n",
        "\tmp = {\"0000\" : '0',\n",
        "\t\t\"0001\" : '1',\n",
        "\t\t\"0010\" : '2',\n",
        "\t\t\"0011\" : '3',\n",
        "\t\t\"0100\" : '4',\n",
        "\t\t\"0101\" : '5',\n",
        "\t\t\"0110\" : '6',\n",
        "\t\t\"0111\" : '7',\n",
        "\t\t\"1000\" : '8',\n",
        "\t\t\"1001\" : '9',\n",
        "\t\t\"1010\" : 'A',\n",
        "\t\t\"1011\" : 'B',\n",
        "\t\t\"1100\" : 'C',\n",
        "\t\t\"1101\" : 'D',\n",
        "\t\t\"1110\" : 'E',\n",
        "\t\t\"1111\" : 'F' }\n",
        "\thex = \"\"\n",
        "\tfor i in range(0,len(s),4):\n",
        "\t\tch = \"\"\n",
        "\t\tch = ch + s[i]\n",
        "\t\tch = ch + s[i + 1]\n",
        "\t\tch = ch + s[i + 2]\n",
        "\t\tch = ch + s[i + 3]\n",
        "\t\thex = hex + mp[ch]\n",
        "\t\t\n",
        "\treturn hex\n"
      ],
      "metadata": {
        "id": "Y3l383OrYjsC"
      },
      "execution_count": 2,
      "outputs": []
    },
    {
      "cell_type": "code",
      "source": [
        "# Binary to decimal conversion\n",
        "def bin2dec(binary):\n",
        "\t\n",
        "\tbinary1 = binary\n",
        "\tdecimal, i, n = 0, 0, 0\n",
        "\twhile(binary != 0):\n",
        "\t\tdec = binary % 10\n",
        "\t\tdecimal = decimal + dec * pow(2, i)\n",
        "\t\tbinary = binary//10\n",
        "\t\ti += 1\n",
        "\treturn decimal"
      ],
      "metadata": {
        "id": "QYBR5YkDYpVE"
      },
      "execution_count": 3,
      "outputs": []
    },
    {
      "cell_type": "code",
      "source": [
        "# Decimal to binary conversion\n",
        "def dec2bin(num):\n",
        "\tres = bin(num).replace(\"0b\", \"\")\n",
        "\tif(len(res)%4 != 0):\n",
        "\t\tdiv = len(res) / 4\n",
        "\t\tdiv = int(div)\n",
        "\t\tcounter =(4 * (div + 1)) - len(res)\n",
        "\t\tfor i in range(0, counter):\n",
        "\t\t\tres = '0' + res\n",
        "\treturn res"
      ],
      "metadata": {
        "id": "FS9p3GlQYtdE"
      },
      "execution_count": 4,
      "outputs": []
    },
    {
      "cell_type": "code",
      "source": [
        "# Permute function to rearrange the bits\n",
        "def permute(k, arr, n):\n",
        "\tpermutation = \"\"\n",
        "\tfor i in range(0, n):\n",
        "\t\tpermutation = permutation + k[arr[i] - 1]\n",
        "\treturn permutation"
      ],
      "metadata": {
        "id": "zwkkcRX5Yx1F"
      },
      "execution_count": 5,
      "outputs": []
    },
    {
      "cell_type": "code",
      "source": [
        "# shifting the bits towards left by nth shifts\n",
        "def shift_left(k, nth_shifts):\n",
        "\ts = \"\"\n",
        "\tfor i in range(nth_shifts):\n",
        "\t\tfor j in range(1,len(k)):\n",
        "\t\t\ts = s + k[j]\n",
        "\t\ts = s + k[0]\n",
        "\t\tk = s\n",
        "\t\ts = \"\"\n",
        "\treturn k\n"
      ],
      "metadata": {
        "id": "ZMocR3FFY4py"
      },
      "execution_count": 6,
      "outputs": []
    },
    {
      "cell_type": "code",
      "source": [
        "# calculating xow of two strings of binary number a and b\n",
        "def xor(a, b):\n",
        "\tans = \"\"\n",
        "\tfor i in range(len(a)):\n",
        "\t\tif a[i] == b[i]:\n",
        "\t\t\tans = ans + \"0\"\n",
        "\t\telse:\n",
        "\t\t\tans = ans + \"1\"\n",
        "\treturn ans"
      ],
      "metadata": {
        "id": "JbMchP-5Y8tq"
      },
      "execution_count": 7,
      "outputs": []
    },
    {
      "cell_type": "code",
      "source": [
        "# Table of Position of 64 bits at initial level: Initial Permutation Table\n",
        "## the first bit of the output is taken from the 58th bit of the input\n",
        "initial_perm = [58, 50, 42, 34, 26, 18, 10, 2,\n",
        "      60, 52, 44, 36, 28, 20, 12, 4,\n",
        "      62, 54, 46, 38, 30, 22, 14, 6,\n",
        "      64, 56, 48, 40, 32, 24, 16, 8,\n",
        "      57, 49, 41, 33, 25, 17, 9, 1,\n",
        "      59, 51, 43, 35, 27, 19, 11, 3,\n",
        "      61, 53, 45, 37, 29, 21, 13, 5,\n",
        "      63, 55, 47, 39, 31, 23, 15, 7]\n",
        "\n",
        "# Expansion D-box Table\n",
        "exp_d = [32, 1 , 2 , 3 , 4 , 5 , 4 , 5,\n",
        "  6 , 7 , 8 , 9 , 8 , 9 , 10, 11,\n",
        "  12, 13, 12, 13, 14, 15, 16, 17,\n",
        "  16, 17, 18, 19, 20, 21, 20, 21,\n",
        "  22, 23, 24, 25, 24, 25, 26, 27,\n",
        "  28, 29, 28, 29, 30, 31, 32, 1 ]\n",
        "\n",
        "# Straight Permutation Table\n",
        "per = [ 16, 7, 20, 21,\n",
        "  29, 12, 28, 17,\n",
        "  1, 15, 23, 26,\n",
        "  5, 18, 31, 10,\n",
        "  2, 8, 24, 14,\n",
        "  32, 27, 3, 9,\n",
        "  19, 13, 30, 6,\n",
        "  22, 11, 4, 25 ]\n",
        "\n",
        "# S-box Table: converts 6 bits to 4 bits\n",
        "# Used to compress every 6 bits to 4 bits of the inputs (XOR of 48 bit key and 48 bit RPT)\n",
        "sbox = [[[14, 4, 13, 1, 2, 15, 11, 8, 3, 10, 6, 12, 5, 9, 0, 7],\n",
        "  [ 0, 15, 7, 4, 14, 2, 13, 1, 10, 6, 12, 11, 9, 5, 3, 8],\n",
        "  [ 4, 1, 14, 8, 13, 6, 2, 11, 15, 12, 9, 7, 3, 10, 5, 0],\n",
        "  [15, 12, 8, 2, 4, 9, 1, 7, 5, 11, 3, 14, 10, 0, 6, 13 ]],\n",
        "    \n",
        "  [[15, 1, 8, 14, 6, 11, 3, 4, 9, 7, 2, 13, 12, 0, 5, 10],\n",
        "    [3, 13, 4, 7, 15, 2, 8, 14, 12, 0, 1, 10, 6, 9, 11, 5],\n",
        "    [0, 14, 7, 11, 10, 4, 13, 1, 5, 8, 12, 6, 9, 3, 2, 15],\n",
        "  [13, 8, 10, 1, 3, 15, 4, 2, 11, 6, 7, 12, 0, 5, 14, 9 ]],\n",
        "\n",
        "  [ [10, 0, 9, 14, 6, 3, 15, 5, 1, 13, 12, 7, 11, 4, 2, 8],\n",
        "  [13, 7, 0, 9, 3, 4, 6, 10, 2, 8, 5, 14, 12, 11, 15, 1],\n",
        "  [13, 6, 4, 9, 8, 15, 3, 0, 11, 1, 2, 12, 5, 10, 14, 7],\n",
        "    [1, 10, 13, 0, 6, 9, 8, 7, 4, 15, 14, 3, 11, 5, 2, 12 ]],\n",
        "\n",
        "  [ [7, 13, 14, 3, 0, 6, 9, 10, 1, 2, 8, 5, 11, 12, 4, 15],\n",
        "  [13, 8, 11, 5, 6, 15, 0, 3, 4, 7, 2, 12, 1, 10, 14, 9],\n",
        "  [10, 6, 9, 0, 12, 11, 7, 13, 15, 1, 3, 14, 5, 2, 8, 4],\n",
        "    [3, 15, 0, 6, 10, 1, 13, 8, 9, 4, 5, 11, 12, 7, 2, 14] ],\n",
        "  \n",
        "  [ [2, 12, 4, 1, 7, 10, 11, 6, 8, 5, 3, 15, 13, 0, 14, 9],\n",
        "  [14, 11, 2, 12, 4, 7, 13, 1, 5, 0, 15, 10, 3, 9, 8, 6],\n",
        "    [4, 2, 1, 11, 10, 13, 7, 8, 15, 9, 12, 5, 6, 3, 0, 14],\n",
        "  [11, 8, 12, 7, 1, 14, 2, 13, 6, 15, 0, 9, 10, 4, 5, 3 ]],\n",
        "\n",
        "  [ [12, 1, 10, 15, 9, 2, 6, 8, 0, 13, 3, 4, 14, 7, 5, 11],\n",
        "  [10, 15, 4, 2, 7, 12, 9, 5, 6, 1, 13, 14, 0, 11, 3, 8],\n",
        "    [9, 14, 15, 5, 2, 8, 12, 3, 7, 0, 4, 10, 1, 13, 11, 6],\n",
        "    [4, 3, 2, 12, 9, 5, 15, 10, 11, 14, 1, 7, 6, 0, 8, 13] ],\n",
        "  \n",
        "  [ [4, 11, 2, 14, 15, 0, 8, 13, 3, 12, 9, 7, 5, 10, 6, 1],\n",
        "  [13, 0, 11, 7, 4, 9, 1, 10, 14, 3, 5, 12, 2, 15, 8, 6],\n",
        "    [1, 4, 11, 13, 12, 3, 7, 14, 10, 15, 6, 8, 0, 5, 9, 2],\n",
        "    [6, 11, 13, 8, 1, 4, 10, 7, 9, 5, 0, 15, 14, 2, 3, 12] ],\n",
        "  \n",
        "  [ [13, 2, 8, 4, 6, 15, 11, 1, 10, 9, 3, 14, 5, 0, 12, 7],\n",
        "    [1, 15, 13, 8, 10, 3, 7, 4, 12, 5, 6, 11, 0, 14, 9, 2],\n",
        "    [7, 11, 4, 1, 9, 12, 14, 2, 0, 6, 10, 13, 15, 3, 5, 8],\n",
        "    [2, 1, 14, 7, 4, 10, 8, 13, 15, 12, 9, 0, 3, 5, 6, 11] ] ]\n",
        "\n",
        "# Final Permutation Table\n",
        "## The final permutation is the inverse of the initial permutation\n",
        "final_perm = [ 40, 8, 48, 16, 56, 24, 64, 32,\n",
        "    39, 7, 47, 15, 55, 23, 63, 31,\n",
        "    38, 6, 46, 14, 54, 22, 62, 30,\n",
        "    37, 5, 45, 13, 53, 21, 61, 29,\n",
        "    36, 4, 44, 12, 52, 20, 60, 28,\n",
        "    35, 3, 43, 11, 51, 19, 59, 27,\n",
        "    34, 2, 42, 10, 50, 18, 58, 26,\n",
        "    33, 1, 41, 9, 49, 17, 57, 25 ]\n",
        "\n",
        "# --parity bit drop table\n",
        "keyp = [57, 49, 41, 33, 25, 17, 9,\n",
        "\t\t1, 58, 50, 42, 34, 26, 18,\n",
        "\t\t10, 2, 59, 51, 43, 35, 27,\n",
        "\t\t19, 11, 3, 60, 52, 44, 36,\n",
        "\t\t63, 55, 47, 39, 31, 23, 15,\n",
        "\t\t7, 62, 54, 46, 38, 30, 22,\n",
        "\t\t14, 6, 61, 53, 45, 37, 29,\n",
        "\t\t21, 13, 5, 28, 20, 12, 4 ]\n",
        "\n",
        "# Number of key bit shifts in key transformation step (16 values for 16 rounds)\n",
        "## Round 1, 2, 9, and 16 shift is done by 1 position, and by 2 positions in the remaining rounds \n",
        "shift_table = [1, 1, 2, 2,\n",
        "\t\t\t\t2, 2, 2, 2,\n",
        "\t\t\t\t1, 2, 2, 2,\n",
        "\t\t\t\t2, 2, 2, 1 ]\n",
        "\n",
        "# Key- Compression Table : Compression of key from 56 bits to 48 bits\n",
        "key_comp = [14, 17, 11, 24, 1, 5,\n",
        "\t\t\t3, 28, 15, 6, 21, 10,\n",
        "\t\t\t23, 19, 12, 4, 26, 8,\n",
        "\t\t\t16, 7, 27, 20, 13, 2,\n",
        "\t\t\t41, 52, 31, 37, 47, 55,\n",
        "\t\t\t30, 40, 51, 45, 33, 48,\n",
        "\t\t\t44, 49, 39, 56, 34, 53,\n",
        "\t\t\t46, 42, 50, 36, 29, 32 ]\n"
      ],
      "metadata": {
        "id": "ghPFhA6cY-og"
      },
      "execution_count": 8,
      "outputs": []
    },
    {
      "cell_type": "code",
      "source": [
        "# Encrypt function\n",
        "def encrypt(pt, rkb, rk):\n",
        "\tpt = hex2bin(pt)\n",
        "\t\n",
        "\t# Initial Permutation\n",
        "\tpt = permute(pt, initial_perm, 64)\n",
        "\tprint(\"After initial permutation\", bin2hex(pt))\n",
        "\t\n",
        "\t# Splitting\n",
        "\tleft = pt[0:32]\n",
        "\tright = pt[32:64]\n",
        "\tfor i in range(0, 16):\n",
        "\t\t# Expansion D-box: Expanding the 32 bits data into 48 bits\n",
        "\t\tright_expanded = permute(right, exp_d, 48)\n",
        "\t\t\n",
        "\t\t# XOR RoundKey[i] and right_expanded\n",
        "\t\txor_x = xor(right_expanded, rkb[i])\n",
        "\n",
        "\t\t# S-boxes: substituting the value from s-box table by calculating row and column\n",
        "\t\tsbox_str = \"\"\n",
        "\t\tfor j in range(0, 8):\n",
        "\t\t\trow = bin2dec(int(xor_x[j * 6] + xor_x[j * 6 + 5])) # first and last bit\n",
        "\t\t\tcol = bin2dec(int(xor_x[j * 6 + 1] + xor_x[j * 6 + 2] + xor_x[j * 6 + 3] + xor_x[j * 6 + 4])) # 2nd to 5th bit\n",
        "\t\t\tval = sbox[j][row][col]\n",
        "\t\t\tsbox_str = sbox_str + dec2bin(val)\n",
        "\t\t\t\n",
        "\t\t# Straight D-box: After substituting rearranging the bits\n",
        "\t\tsbox_str = permute(sbox_str, per, 32)\n",
        "\t\t\n",
        "\t\t# XOR left and sbox_str\n",
        "\t\tresult = xor(left, sbox_str)\n",
        "\t\tleft = result\n",
        "\t\t\n",
        "\t\t# Swapper\n",
        "\t\tif(i != 15):\n",
        "\t\t\tleft, right = right, left\n",
        "\t\tprint(\"Round \", i + 1, \" \", bin2hex(left), \" \", bin2hex(right), \" \", rk[i])\n",
        "\t\n",
        "\t# Combination\n",
        "\tcombine = left + right\n",
        "\t\n",
        "\t# Final permutation: final rearranging of bits to get cipher text\n",
        "\tcipher_text = permute(combine, final_perm, 64)\n",
        "\treturn cipher_text"
      ],
      "metadata": {
        "id": "jTBMQayqZPJa"
      },
      "execution_count": 9,
      "outputs": []
    },
    {
      "cell_type": "code",
      "source": [
        "pt = \"432156ABCD132536\"\n",
        "key = \"AABB09182736CCDD\"\n",
        "\n",
        "# Key generation\n",
        "# --hex to binary\n",
        "key = hex2bin(key)\n",
        "print(\"Key: \", key, \"\\nSize of key (in bits): \", len(key))"
      ],
      "metadata": {
        "colab": {
          "base_uri": "https://localhost:8080/",
          "height": 0
        },
        "id": "mQQWNgSkZarA",
        "outputId": "98d45778-e231-45ab-bd64-14cd75ed55dd"
      },
      "execution_count": 10,
      "outputs": [
        {
          "output_type": "stream",
          "name": "stdout",
          "text": [
            "Key:  1010101010111011000010010001100000100111001101101100110011011101 \n",
            "Size of key (in bits):  64\n"
          ]
        }
      ]
    },
    {
      "cell_type": "code",
      "source": [
        "# getting 56 bit key from 64 bit using the parity bits\n",
        "key = permute(key, keyp, 56)\n",
        "print(\"Key: \", key, \"\\nSize of key (in bits): \", len(key))"
      ],
      "metadata": {
        "colab": {
          "base_uri": "https://localhost:8080/",
          "height": 0
        },
        "id": "Np8CTJixZe7G",
        "outputId": "e76921df-284f-4657-f7ba-a1ab31c8b4de"
      },
      "execution_count": 11,
      "outputs": [
        {
          "output_type": "stream",
          "name": "stdout",
          "text": [
            "Key:  11000011110000000011001110100011001111110000110011111010 \n",
            "Size of key (in bits):  56\n"
          ]
        }
      ]
    },
    {
      "cell_type": "code",
      "source": [
        "# Splitting\n",
        "left = key[0:28] # rkb for RoundKeys in binary\n",
        "right = key[28:56] # rk for RoundKeys in hexadecimal\n",
        "\n",
        "rkb = []\n",
        "rk = []\n",
        "for i in range(0, 16):\n",
        "\t# Shifting the bits by nth shifts by checking from shift table\n",
        "\tleft = shift_left(left, shift_table[i])\n",
        "\tright = shift_left(right, shift_table[i])\n",
        "\t\n",
        "\t# Combination of left and right string\n",
        "\tcombine_str = left + right\n",
        "\t\n",
        "\t# Compression of key from 56 to 48 bits\n",
        "\tround_key = permute(combine_str, key_comp, 48)\n",
        "\n",
        "\trkb.append(round_key)\n",
        "\trk.append(bin2hex(round_key))\n",
        "\n",
        "print(\"Encryption\")\n",
        "cipher_text = bin2hex(encrypt(pt, rkb, rk))\n",
        "print(\"Cipher Text : \",cipher_text)\n"
      ],
      "metadata": {
        "colab": {
          "base_uri": "https://localhost:8080/",
          "height": 0
        },
        "id": "RY8TnyrOZ39l",
        "outputId": "53551c2e-4d21-4ef1-d47c-78bf382c652d"
      },
      "execution_count": 12,
      "outputs": [
        {
          "output_type": "stream",
          "name": "stdout",
          "text": [
            "Encryption\n",
            "After initial permutation 15A4D47B18CA18AD\n",
            "Round  1   18CA18AD   5B7BE197   194CD072DE8C\n",
            "Round  2   5B7BE197   3E79124C   4568581ABCCE\n",
            "Round  3   3E79124C   976F9489   06EDA4ACF5B5\n",
            "Round  4   976F9489   6CFCC7CE   DA2D032B6EE3\n",
            "Round  5   6CFCC7CE   33C3F73A   69A629FEC913\n",
            "Round  6   33C3F73A   22813470   C1948E87475E\n",
            "Round  7   22813470   85FC7F11   708AD2DDB3C0\n",
            "Round  8   85FC7F11   078DAAB0   34F822F0C66D\n",
            "Round  9   078DAAB0   2F46FD76   84BB4473DCCC\n",
            "Round  10   2F46FD76   16AC10D2   02765708B5BF\n",
            "Round  11   16AC10D2   8FDEA479   6D5560AF7CA5\n",
            "Round  12   8FDEA479   4CA9192E   C2C1E96A4BF3\n",
            "Round  13   4CA9192E   35CD3F0A   99C31397C91F\n",
            "Round  14   35CD3F0A   25AC6CA0   251B8BC717D0\n",
            "Round  15   25AC6CA0   2DA04842   3330C5D9A36D\n",
            "Round  16   055CFA4B   2DA04842   181C5D75C66D\n",
            "Cipher Text :  C107D09D14A41F24\n"
          ]
        }
      ]
    },
    {
      "cell_type": "code",
      "source": [
        "print(\"Decryption\")\n",
        "rkb_rev = rkb[::-1]\n",
        "rk_rev = rk[::-1]\n",
        "text = bin2hex(encrypt(cipher_text, rkb_rev, rk_rev))\n",
        "print(\"Plain Text : \",text)"
      ],
      "metadata": {
        "colab": {
          "base_uri": "https://localhost:8080/",
          "height": 0
        },
        "id": "4QenhEe-aUD2",
        "outputId": "8d6174c6-1bde-497f-fdff-2518be19d4bb"
      },
      "execution_count": 13,
      "outputs": [
        {
          "output_type": "stream",
          "name": "stdout",
          "text": [
            "Decryption\n",
            "After initial permutation 055CFA4B2DA04842\n",
            "Round  1   2DA04842   25AC6CA0   181C5D75C66D\n",
            "Round  2   25AC6CA0   35CD3F0A   3330C5D9A36D\n",
            "Round  3   35CD3F0A   4CA9192E   251B8BC717D0\n",
            "Round  4   4CA9192E   8FDEA479   99C31397C91F\n",
            "Round  5   8FDEA479   16AC10D2   C2C1E96A4BF3\n",
            "Round  6   16AC10D2   2F46FD76   6D5560AF7CA5\n",
            "Round  7   2F46FD76   078DAAB0   02765708B5BF\n",
            "Round  8   078DAAB0   85FC7F11   84BB4473DCCC\n",
            "Round  9   85FC7F11   22813470   34F822F0C66D\n",
            "Round  10   22813470   33C3F73A   708AD2DDB3C0\n",
            "Round  11   33C3F73A   6CFCC7CE   C1948E87475E\n",
            "Round  12   6CFCC7CE   976F9489   69A629FEC913\n",
            "Round  13   976F9489   3E79124C   DA2D032B6EE3\n",
            "Round  14   3E79124C   5B7BE197   06EDA4ACF5B5\n",
            "Round  15   5B7BE197   18CA18AD   4568581ABCCE\n",
            "Round  16   15A4D47B   18CA18AD   194CD072DE8C\n",
            "Plain Text :  432156ABCD132536\n"
          ]
        }
      ]
    }
  ]
}